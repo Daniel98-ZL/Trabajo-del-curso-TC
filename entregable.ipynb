{
 "cells": [
  {
   "cell_type": "code",
   "execution_count": 1,
   "metadata": {},
   "outputs": [
    {
     "name": "stdout",
     "output_type": "stream",
     "text": [
      "*** BOLETA DE PAGO ***\n",
      "NOMBRE: ROBERTO CARLOS\n",
      "CATEGORIA: B\n",
      "SUELDO BASICO: 2500\n",
      "DESCUENTO TARDANZAS: 52.08\n",
      "PAGO HORAS EXTRAS: 312.50\n",
      "SUELDO NETO: 2760.42\n"
     ]
    }
   ],
   "source": [
    "class Trabajador:\n",
    "    def __init__(self, nombre, categoria, horas_extra, tardanzas):\n",
    "        self.nombre = nombre\n",
    "        self.categoria = categoria\n",
    "        self.horas_extra = horas_extra\n",
    "        self.tardanzas = tardanzas\n",
    "\n",
    "        if categoria == \"A\":\n",
    "            self.sueldo_basico = 3000\n",
    "            self.pago_hora_extra = self.sueldo_basico / 240 * 4\n",
    "        elif categoria == \"B\":\n",
    "            self.sueldo_basico = 2500\n",
    "            self.pago_hora_extra = self.sueldo_basico / 240 * 3\n",
    "        elif categoria == \"C\":\n",
    "            self.sueldo_basico = 2000\n",
    "            self.pago_hora_extra = self.sueldo_basico / 240 * 2\n",
    "\n",
    "    def __str__(self):\n",
    "        return f\"NOMBRE: {self.nombre}\\nCATEGORIA: {self.categoria}\\nSUELDO BASICO: {self.sueldo_basico}\"\n",
    "\n",
    "\n",
    "class Boleta:\n",
    "    def __init__(self, trabajador):\n",
    "        self.trabajador = trabajador\n",
    "        self.descuento_tardanzas = trabajador.tardanzas / 60 / 8 * trabajador.sueldo_basico * 0.05\n",
    "        self.pago_horas_extra = trabajador.horas_extra * trabajador.pago_hora_extra\n",
    "        self.sueldo_neto = trabajador.sueldo_basico - self.descuento_tardanzas + self.pago_horas_extra\n",
    "\n",
    "    def __str__(self):\n",
    "        return f\"*** BOLETA DE PAGO ***\\n{self.trabajador}\\nDESCUENTO TARDANZAS: {self.descuento_tardanzas:.2f}\\nPAGO HORAS EXTRAS: {self.pago_horas_extra:.2f}\\nSUELDO NETO: {self.sueldo_neto:.2f}\"\n",
    "\n",
    "trabajador = Trabajador(\"ROBERTO CARLOS\", \"B\", 10, 200)\n",
    "boleta = Boleta(trabajador)\n",
    "print(boleta)\n"
   ]
  }
 ],
 "metadata": {
  "kernelspec": {
   "display_name": "Python 3",
   "language": "python",
   "name": "python3"
  },
  "language_info": {
   "codemirror_mode": {
    "name": "ipython",
    "version": 3
   },
   "file_extension": ".py",
   "mimetype": "text/x-python",
   "name": "python",
   "nbconvert_exporter": "python",
   "pygments_lexer": "ipython3",
   "version": "3.11.2"
  },
  "orig_nbformat": 4
 },
 "nbformat": 4,
 "nbformat_minor": 2
}
